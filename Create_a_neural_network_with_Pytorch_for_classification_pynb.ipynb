{
  "nbformat": 4,
  "nbformat_minor": 0,
  "metadata": {
    "colab": {
      "provenance": [],
      "authorship_tag": "ABX9TyOm1REwTc8YeHwNjrqgmXQW",
      "include_colab_link": true
    },
    "kernelspec": {
      "name": "python3",
      "display_name": "Python 3"
    },
    "language_info": {
      "name": "python"
    }
  },
  "cells": [
    {
      "cell_type": "markdown",
      "metadata": {
        "id": "view-in-github",
        "colab_type": "text"
      },
      "source": [
        "<a href=\"https://colab.research.google.com/github/AngeClementAkazan/Neural-Network-With-Pytorch/blob/main/Create_a_neural_network_with_Pytorch_for_classification_pynb.ipynb\" target=\"_parent\"><img src=\"https://colab.research.google.com/assets/colab-badge.svg\" alt=\"Open In Colab\"/></a>"
      ]
    },
    {
      "cell_type": "code",
      "execution_count": 105,
      "metadata": {
        "id": "T7g-rngr6E31"
      },
      "outputs": [],
      "source": [
        "import torch\n",
        "import torch.nn as nn\n",
        "import torch.nn.functional as F"
      ]
    },
    {
      "cell_type": "code",
      "source": [
        "class Model(nn.Module):\n",
        "  \"Neural net with two hidden layers with h1 and h2 node, and input of 4 nodes and output of 3 nodes\"\n",
        "  def __init__(self,in_f=4,h1=9,h2=8,out_f=3):\n",
        "    super(Model,self).__init__()\n",
        "    self.in_f=in_f\n",
        "    self.h1=h1\n",
        "    self.h2=h2\n",
        "    self.out_f=out_f\n",
        "    self.main=nn.Sequential(\n",
        "        nn.Linear(in_f,h1),\n",
        "        nn.ReLU(),\n",
        "        nn.Linear(h1,h2),\n",
        "        nn.ReLU(),\n",
        "        nn.Linear(h2,out_f))\n",
        "\n",
        "  def forward(self,input):\n",
        "    out=self.main(input)\n",
        "    return out"
      ],
      "metadata": {
        "id": "acCUViEIBBlJ"
      },
      "execution_count": 106,
      "outputs": []
    },
    {
      "cell_type": "code",
      "source": [
        "#Random seed\n",
        "torch.manual_seed(100)\n",
        "#Model\n",
        "model=Model()"
      ],
      "metadata": {
        "id": "aEAfTRBOFT-J"
      },
      "execution_count": 107,
      "outputs": []
    },
    {
      "cell_type": "code",
      "source": [
        "import pandas as pd\n",
        "import matplotlib.pyplot as plt\n",
        "#Loading Data\n",
        "url='https://gist.githubusercontent.com/netj/8836201/raw/6f9306ad21398ea43cba4f7d537619d0e07d5ae3/iris.csv'\n",
        "df=pd.read_csv(url)"
      ],
      "metadata": {
        "id": "VX6YA7HQIi4Y"
      },
      "execution_count": 108,
      "outputs": []
    },
    {
      "cell_type": "code",
      "source": [
        "df.head(5)"
      ],
      "metadata": {
        "colab": {
          "base_uri": "https://localhost:8080/",
          "height": 206
        },
        "id": "JASuYDx6KT25",
        "outputId": "63ea8ead-ecc1-4d82-e8d9-2c30afe7dad2"
      },
      "execution_count": 109,
      "outputs": [
        {
          "output_type": "execute_result",
          "data": {
            "text/plain": [
              "   sepal.length  sepal.width  petal.length  petal.width variety\n",
              "0           5.1          3.5           1.4          0.2  Setosa\n",
              "1           4.9          3.0           1.4          0.2  Setosa\n",
              "2           4.7          3.2           1.3          0.2  Setosa\n",
              "3           4.6          3.1           1.5          0.2  Setosa\n",
              "4           5.0          3.6           1.4          0.2  Setosa"
            ],
            "text/html": [
              "\n",
              "  <div id=\"df-8af0c132-acdb-4798-8222-71a6f0c66459\">\n",
              "    <div class=\"colab-df-container\">\n",
              "      <div>\n",
              "<style scoped>\n",
              "    .dataframe tbody tr th:only-of-type {\n",
              "        vertical-align: middle;\n",
              "    }\n",
              "\n",
              "    .dataframe tbody tr th {\n",
              "        vertical-align: top;\n",
              "    }\n",
              "\n",
              "    .dataframe thead th {\n",
              "        text-align: right;\n",
              "    }\n",
              "</style>\n",
              "<table border=\"1\" class=\"dataframe\">\n",
              "  <thead>\n",
              "    <tr style=\"text-align: right;\">\n",
              "      <th></th>\n",
              "      <th>sepal.length</th>\n",
              "      <th>sepal.width</th>\n",
              "      <th>petal.length</th>\n",
              "      <th>petal.width</th>\n",
              "      <th>variety</th>\n",
              "    </tr>\n",
              "  </thead>\n",
              "  <tbody>\n",
              "    <tr>\n",
              "      <th>0</th>\n",
              "      <td>5.1</td>\n",
              "      <td>3.5</td>\n",
              "      <td>1.4</td>\n",
              "      <td>0.2</td>\n",
              "      <td>Setosa</td>\n",
              "    </tr>\n",
              "    <tr>\n",
              "      <th>1</th>\n",
              "      <td>4.9</td>\n",
              "      <td>3.0</td>\n",
              "      <td>1.4</td>\n",
              "      <td>0.2</td>\n",
              "      <td>Setosa</td>\n",
              "    </tr>\n",
              "    <tr>\n",
              "      <th>2</th>\n",
              "      <td>4.7</td>\n",
              "      <td>3.2</td>\n",
              "      <td>1.3</td>\n",
              "      <td>0.2</td>\n",
              "      <td>Setosa</td>\n",
              "    </tr>\n",
              "    <tr>\n",
              "      <th>3</th>\n",
              "      <td>4.6</td>\n",
              "      <td>3.1</td>\n",
              "      <td>1.5</td>\n",
              "      <td>0.2</td>\n",
              "      <td>Setosa</td>\n",
              "    </tr>\n",
              "    <tr>\n",
              "      <th>4</th>\n",
              "      <td>5.0</td>\n",
              "      <td>3.6</td>\n",
              "      <td>1.4</td>\n",
              "      <td>0.2</td>\n",
              "      <td>Setosa</td>\n",
              "    </tr>\n",
              "  </tbody>\n",
              "</table>\n",
              "</div>\n",
              "      <button class=\"colab-df-convert\" onclick=\"convertToInteractive('df-8af0c132-acdb-4798-8222-71a6f0c66459')\"\n",
              "              title=\"Convert this dataframe to an interactive table.\"\n",
              "              style=\"display:none;\">\n",
              "        \n",
              "  <svg xmlns=\"http://www.w3.org/2000/svg\" height=\"24px\"viewBox=\"0 0 24 24\"\n",
              "       width=\"24px\">\n",
              "    <path d=\"M0 0h24v24H0V0z\" fill=\"none\"/>\n",
              "    <path d=\"M18.56 5.44l.94 2.06.94-2.06 2.06-.94-2.06-.94-.94-2.06-.94 2.06-2.06.94zm-11 1L8.5 8.5l.94-2.06 2.06-.94-2.06-.94L8.5 2.5l-.94 2.06-2.06.94zm10 10l.94 2.06.94-2.06 2.06-.94-2.06-.94-.94-2.06-.94 2.06-2.06.94z\"/><path d=\"M17.41 7.96l-1.37-1.37c-.4-.4-.92-.59-1.43-.59-.52 0-1.04.2-1.43.59L10.3 9.45l-7.72 7.72c-.78.78-.78 2.05 0 2.83L4 21.41c.39.39.9.59 1.41.59.51 0 1.02-.2 1.41-.59l7.78-7.78 2.81-2.81c.8-.78.8-2.07 0-2.86zM5.41 20L4 18.59l7.72-7.72 1.47 1.35L5.41 20z\"/>\n",
              "  </svg>\n",
              "      </button>\n",
              "      \n",
              "  <style>\n",
              "    .colab-df-container {\n",
              "      display:flex;\n",
              "      flex-wrap:wrap;\n",
              "      gap: 12px;\n",
              "    }\n",
              "\n",
              "    .colab-df-convert {\n",
              "      background-color: #E8F0FE;\n",
              "      border: none;\n",
              "      border-radius: 50%;\n",
              "      cursor: pointer;\n",
              "      display: none;\n",
              "      fill: #1967D2;\n",
              "      height: 32px;\n",
              "      padding: 0 0 0 0;\n",
              "      width: 32px;\n",
              "    }\n",
              "\n",
              "    .colab-df-convert:hover {\n",
              "      background-color: #E2EBFA;\n",
              "      box-shadow: 0px 1px 2px rgba(60, 64, 67, 0.3), 0px 1px 3px 1px rgba(60, 64, 67, 0.15);\n",
              "      fill: #174EA6;\n",
              "    }\n",
              "\n",
              "    [theme=dark] .colab-df-convert {\n",
              "      background-color: #3B4455;\n",
              "      fill: #D2E3FC;\n",
              "    }\n",
              "\n",
              "    [theme=dark] .colab-df-convert:hover {\n",
              "      background-color: #434B5C;\n",
              "      box-shadow: 0px 1px 3px 1px rgba(0, 0, 0, 0.15);\n",
              "      filter: drop-shadow(0px 1px 2px rgba(0, 0, 0, 0.3));\n",
              "      fill: #FFFFFF;\n",
              "    }\n",
              "  </style>\n",
              "\n",
              "      <script>\n",
              "        const buttonEl =\n",
              "          document.querySelector('#df-8af0c132-acdb-4798-8222-71a6f0c66459 button.colab-df-convert');\n",
              "        buttonEl.style.display =\n",
              "          google.colab.kernel.accessAllowed ? 'block' : 'none';\n",
              "\n",
              "        async function convertToInteractive(key) {\n",
              "          const element = document.querySelector('#df-8af0c132-acdb-4798-8222-71a6f0c66459');\n",
              "          const dataTable =\n",
              "            await google.colab.kernel.invokeFunction('convertToInteractive',\n",
              "                                                     [key], {});\n",
              "          if (!dataTable) return;\n",
              "\n",
              "          const docLinkHtml = 'Like what you see? Visit the ' +\n",
              "            '<a target=\"_blank\" href=https://colab.research.google.com/notebooks/data_table.ipynb>data table notebook</a>'\n",
              "            + ' to learn more about interactive tables.';\n",
              "          element.innerHTML = '';\n",
              "          dataTable['output_type'] = 'display_data';\n",
              "          await google.colab.output.renderOutput(dataTable, element);\n",
              "          const docLink = document.createElement('div');\n",
              "          docLink.innerHTML = docLinkHtml;\n",
              "          element.appendChild(docLink);\n",
              "        }\n",
              "      </script>\n",
              "    </div>\n",
              "  </div>\n",
              "  "
            ]
          },
          "metadata": {},
          "execution_count": 109
        }
      ]
    },
    {
      "cell_type": "code",
      "source": [
        "#Replacing value of the target column for classification\n",
        "df['variety']=df['variety'].replace('Setosa',0.0)\n",
        "df['variety']=df['variety'].replace('Versicolor',1.0)\n",
        "df['variety']=df['variety'].replace('Virginica',2.0)"
      ],
      "metadata": {
        "id": "8crivAgnKYXJ"
      },
      "execution_count": 110,
      "outputs": []
    },
    {
      "cell_type": "code",
      "source": [
        "#Train, test data extraction\n",
        "X=df.drop('variety',axis=1).values\n",
        "y=df['variety'].values"
      ],
      "metadata": {
        "id": "T3XwJnU_K6wO"
      },
      "execution_count": 111,
      "outputs": []
    },
    {
      "cell_type": "code",
      "source": [
        "from sklearn.model_selection import train_test_split\n",
        "X_train,X_test,y_train,y_test=train_test_split(X,y,test_size=0.2,random_state=100)"
      ],
      "metadata": {
        "id": "N6OV0_1BLq4V"
      },
      "execution_count": 112,
      "outputs": []
    },
    {
      "cell_type": "code",
      "source": [
        "#Convert the data in float tensor\n",
        "X_train=torch.FloatTensor(X_train)\n",
        "y_train=torch.LongTensor(y_train) #LongTensor: Int62bits\n",
        "X_test=torch.FloatTensor(X_test)\n",
        "y_test=torch.LongTensor(y_test)"
      ],
      "metadata": {
        "id": "3j5i0sMwMiCK"
      },
      "execution_count": 113,
      "outputs": []
    },
    {
      "cell_type": "code",
      "source": [
        "#Criterion to measure the error between prediction and ground truth\n",
        "criterion=nn.CrossEntropyLoss()\n",
        "#Optimizers\n",
        "opt=torch.optim.Adam(model.parameters(),lr=0.002,betas=(0.5,0.999))\n",
        "epch=200\n",
        "ls=[]\n",
        "for i in range(epch):\n",
        "  #Get predicted result\n",
        "  y_pred=model.forward(X_train)\n",
        "  #Measure the loss\n",
        "  loss=criterion(y_pred,y_train)\n",
        "  #Keep track of the loss for plot\n",
        "  ls.append(loss.detach().numpy())\n",
        "\n",
        "  #Print the loss value after every 10 epochs\n",
        "  if i%20==0: print(f'Loss:{loss} at epoch:{i} over {epch}')\n",
        "  #The Backpropagation process to finetune weights\n",
        "  opt.zero_grad()\n",
        "  loss.backward()\n",
        "  opt.step()"
      ],
      "metadata": {
        "colab": {
          "base_uri": "https://localhost:8080/"
        },
        "id": "Z-A8eALDNLG7",
        "outputId": "66329a83-79ed-445f-bcb3-be6fd9c80fdd"
      },
      "execution_count": 114,
      "outputs": [
        {
          "output_type": "stream",
          "name": "stdout",
          "text": [
            "Loss:1.1899101734161377 at epoch:0 over 200\n",
            "Loss:1.0145095586776733 at epoch:20 over 200\n",
            "Loss:0.856200098991394 at epoch:40 over 200\n",
            "Loss:0.6705280542373657 at epoch:60 over 200\n",
            "Loss:0.5219783782958984 at epoch:80 over 200\n",
            "Loss:0.41926804184913635 at epoch:100 over 200\n",
            "Loss:0.3379591107368469 at epoch:120 over 200\n",
            "Loss:0.2700462341308594 at epoch:140 over 200\n",
            "Loss:0.2162068486213684 at epoch:160 over 200\n",
            "Loss:0.17624086141586304 at epoch:180 over 200\n"
          ]
        }
      ]
    },
    {
      "cell_type": "code",
      "source": [
        "#Plot the loss by epoch\n",
        "plt.plot(range(epch),ls)\n",
        "plt.title(\"loss by epoch\")\n",
        "plt.xlabel(\"Epoch\")\n",
        "plt.ylabel(\"Loss\")\n",
        "plt.show()"
      ],
      "metadata": {
        "colab": {
          "base_uri": "https://localhost:8080/",
          "height": 472
        },
        "id": "pRy4ODByUXZ2",
        "outputId": "6a3fcdca-b533-49d2-8481-d2ca222dcfb5"
      },
      "execution_count": 115,
      "outputs": [
        {
          "output_type": "display_data",
          "data": {
            "text/plain": [
              "<Figure size 640x480 with 1 Axes>"
            ],
            "image/png": "[encoded data removed]"
          },
          "metadata": {}
        }
      ]
    },
    {
      "cell_type": "code",
      "source": [
        "#Evaluate Model on Test Data Set\n",
        "with torch.no_grad():\n",
        "  y_eval=model.forward(X_test)\n",
        "  loss=criterion(y_eval,y_test)\n",
        "\n",
        "loss"
      ],
      "metadata": {
        "colab": {
          "base_uri": "https://localhost:8080/"
        },
        "id": "4qfCtVfdWDXA",
        "outputId": "fdd13e4e-9d8e-40ef-bd93-29286566a2ff"
      },
      "execution_count": 116,
      "outputs": [
        {
          "output_type": "execute_result",
          "data": {
            "text/plain": [
              "tensor(0.1113)"
            ]
          },
          "metadata": {},
          "execution_count": 116
        }
      ]
    },
    {
      "cell_type": "code",
      "source": [
        "#Analysis of results\n",
        "correct=0\n",
        "with torch.no_grad():\n",
        "  for i, dt in enumerate(X_test):\n",
        "    y_val=model.forward(dt)\n",
        "    #print the classification result\n",
        "    print(f'observation:{i},  predicted value:{y_val.argmax().item()}, \\t real value:{y_test[i]}')\n",
        "    if y_val.argmax().item()==y_test[i]: correct+=1\n",
        "  print(f'We got {correct} correct values out of 30')"
      ],
      "metadata": {
        "colab": {
          "base_uri": "https://localhost:8080/"
        },
        "id": "grDmkkPKXwg4",
        "outputId": "41e73ab0-106e-4df3-88c7-636f6a4aca60"
      },
      "execution_count": 118,
      "outputs": [
        {
          "output_type": "stream",
          "name": "stdout",
          "text": [
            "observation:0,  predicted value:2, \t real value:2\n",
            "observation:1,  predicted value:0, \t real value:0\n",
            "observation:2,  predicted value:2, \t real value:2\n",
            "observation:3,  predicted value:0, \t real value:0\n",
            "observation:4,  predicted value:2, \t real value:2\n",
            "observation:5,  predicted value:2, \t real value:2\n",
            "observation:6,  predicted value:0, \t real value:0\n",
            "observation:7,  predicted value:0, \t real value:0\n",
            "observation:8,  predicted value:2, \t real value:2\n",
            "observation:9,  predicted value:0, \t real value:0\n",
            "observation:10,  predicted value:0, \t real value:0\n",
            "observation:11,  predicted value:2, \t real value:2\n",
            "observation:12,  predicted value:0, \t real value:0\n",
            "observation:13,  predicted value:0, \t real value:0\n",
            "observation:14,  predicted value:2, \t real value:2\n",
            "observation:15,  predicted value:1, \t real value:1\n",
            "observation:16,  predicted value:1, \t real value:1\n",
            "observation:17,  predicted value:1, \t real value:1\n",
            "observation:18,  predicted value:2, \t real value:2\n",
            "observation:19,  predicted value:2, \t real value:2\n",
            "observation:20,  predicted value:2, \t real value:2\n",
            "observation:21,  predicted value:0, \t real value:0\n",
            "observation:22,  predicted value:2, \t real value:2\n",
            "observation:23,  predicted value:0, \t real value:0\n",
            "observation:24,  predicted value:1, \t real value:1\n",
            "observation:25,  predicted value:2, \t real value:2\n",
            "observation:26,  predicted value:1, \t real value:1\n",
            "observation:27,  predicted value:0, \t real value:0\n",
            "observation:28,  predicted value:1, \t real value:1\n",
            "observation:29,  predicted value:2, \t real value:2\n",
            "We got 30 correct values\n"
          ]
        }
      ]
    }
  ]
}
